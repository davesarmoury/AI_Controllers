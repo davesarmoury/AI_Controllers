{
 "cells": [
  {
   "cell_type": "code",
   "execution_count": null,
   "metadata": {
    "colab": {
     "base_uri": "https://localhost:8080/"
    },
    "id": "gv_JOuDPgVyK",
    "outputId": "54f4e848-e301-40f8-e1e1-5aa831e8a82d"
   },
   "outputs": [],
   "source": [
    "VERSION = 6\n",
    "\n",
    "api_key = os.environ['ROBOFLOW_API_KEY']\n",
    "\n",
    "!pip3 install ultralytics\n",
    "!pip3 install roboflow"
   ]
  },
  {
   "cell_type": "code",
   "execution_count": null,
   "metadata": {
    "colab": {
     "base_uri": "https://localhost:8080/"
    },
    "id": "7doEohT-gcFg",
    "outputId": "b4ab67fe-db34-4c4c-e8f0-2c4fbf010ac3"
   },
   "outputs": [],
   "source": [
    "from ultralytics import YOLO\n",
    "\n",
    "model = YOLO('yolov8n.pt')\n",
    "model.predict(\n",
    "   source='https://media.roboflow.com/notebooks/examples/dog.jpeg',\n",
    "   conf=0.25\n",
    ")"
   ]
  },
  {
   "cell_type": "code",
   "execution_count": null,
   "metadata": {
    "colab": {
     "base_uri": "https://localhost:8080/"
    },
    "id": "Ee8dncQpg0ew",
    "outputId": "b4a6ac46-6531-4fcf-b853-95fd40b770fe",
    "scrolled": true
   },
   "outputs": [],
   "source": [
    "from roboflow import Roboflow\n",
    "rf = Roboflow(api_key=api_key)\n",
    "project = rf.workspace(\"daves-armoury\").project(\"robot-commands\")\n",
    "dataset = project.version(VERSION).download(\"yolov8\")\n",
    "\n",
    "!sed -i 's+Robot-Commands-6/++' {dataset.location}/data.yaml\n",
    "!sed -i 's+\\.\\./++' {dataset.location}/data.yaml"
   ]
  },
  {
   "cell_type": "code",
   "execution_count": null,
   "metadata": {
    "colab": {
     "base_uri": "https://localhost:8080/"
    },
    "id": "Qbp-JJJ3huLH",
    "outputId": "822c0b9c-857d-499c-98b8-216e5c225f76"
   },
   "outputs": [],
   "source": [
    "!yolo task=detect \\\n",
    "mode=train \\\n",
    "model=yolov8m.pt \\\n",
    "data={dataset.location}/data.yaml \\\n",
    "epochs=100 \\\n",
    "imgsz=640"
   ]
  },
  {
   "cell_type": "code",
   "execution_count": null,
   "metadata": {
    "colab": {
     "base_uri": "https://localhost:8080/",
     "height": 355
    },
    "id": "jK7K1cdMlyK0",
    "outputId": "fdb35563-1810-48f0-91db-1773027827fc"
   },
   "outputs": [],
   "source": [
    "version = project.version(VERSION)\n",
    "version.deploy(\"yolov8\", \"runs/detect/train\")"
   ]
  },
  {
   "cell_type": "code",
   "execution_count": null,
   "metadata": {},
   "outputs": [],
   "source": []
  }
 ],
 "metadata": {
  "accelerator": "GPU",
  "colab": {
   "gpuType": "T4",
   "provenance": []
  },
  "kernelspec": {
   "display_name": "Python 3",
   "language": "python",
   "name": "python3"
  },
  "language_info": {
   "codemirror_mode": {
    "name": "ipython",
    "version": 3
   },
   "file_extension": ".py",
   "mimetype": "text/x-python",
   "name": "python",
   "nbconvert_exporter": "python",
   "pygments_lexer": "ipython3",
   "version": "3.8.10"
  }
 },
 "nbformat": 4,
 "nbformat_minor": 4
}
